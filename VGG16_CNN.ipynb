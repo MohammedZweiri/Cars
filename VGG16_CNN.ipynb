{
 "cells": [
  {
   "cell_type": "code",
   "execution_count": 1,
   "metadata": {},
   "outputs": [
    {
     "name": "stderr",
     "output_type": "stream",
     "text": [
      "Using TensorFlow backend.\n"
     ]
    }
   ],
   "source": [
    "import pandas as pd\n",
    "import numpy as np\n",
    "import tensorflow\n",
    "import itertools\n",
    "import keras\n",
    "from sklearn import metrics\n",
    "from sklearn.metrics import confusion_matrix\n",
    "from sklearn.metrics import plot_confusion_matrix\n",
    "from keras.preprocessing.image import (ImageDataGenerator, img_to_array,\n",
    "load_img)\n",
    "from tensorflow.keras.models import Sequential\n",
    "from keras import optimizers\n",
    "from keras.preprocessing import image\n",
    "from tensorflow.keras.layers import Dropout, Flatten, Dense\n",
    "from tensorflow.keras import applications\n",
    "from keras.utils.np_utils import to_categorical\n",
    "import matplotlib.pyplot as plt\n",
    "import matplotlib.image as mpimg\n",
    "%matplotlib inline\n",
    "import math\n",
    "import datetime\n",
    "import time"
   ]
  },
  {
   "cell_type": "code",
   "execution_count": 2,
   "metadata": {},
   "outputs": [],
   "source": [
    "img_width, img_height = 224,224\n",
    "\n",
    "top_model_weights_path = 'bottleneck_fc_model.h5'\n",
    "\n",
    "train_data_location = r'C:\\Users\\moham\\Desktop\\Dude\\Final year project\\Input_Data\\train'\n",
    "validation_data_location = r'C:\\Users\\moham\\Desktop\\Dude\\Final year project\\Input_Data\\validation'\n",
    "test_data_location = r'C:\\Users\\moham\\Desktop\\Dude\\Final year project\\Input_Data\\test'\n",
    "epochs = 10\n",
    "batch_size = 50"
   ]
  },
  {
   "cell_type": "code",
   "execution_count": 3,
   "metadata": {},
   "outputs": [],
   "source": [
    "vgg16 = applications.VGG16(include_top = False, weights = 'imagenet')\n",
    "\n",
    "datagen = ImageDataGenerator(rescale = 1. /255)"
   ]
  },
  {
   "cell_type": "code",
   "execution_count": 4,
   "metadata": {},
   "outputs": [
    {
     "name": "stdout",
     "output_type": "stream",
     "text": [
      "Found 106468 images belonging to 3 classes.\n",
      "WARNING:tensorflow:From <ipython-input-4-e65fcac50547>:15: Model.predict_generator (from tensorflow.python.keras.engine.training) is deprecated and will be removed in a future version.\n",
      "Instructions for updating:\n",
      "Please use Model.predict, which supports generators.\n",
      "Time:  6:01:24.839106\n"
     ]
    }
   ],
   "source": [
    "start = datetime.datetime.now()\n",
    "\n",
    "generator = datagen.flow_from_directory(\n",
    "    train_data_location,\n",
    "    target_size = (img_width, img_height),\n",
    "    batch_size = batch_size,\n",
    "    class_mode = None,\n",
    "    shuffle = False)\n",
    "\n",
    "nb_train_samples = len(generator.filenames)\n",
    "num_classes = len(generator.class_indices)\n",
    "\n",
    "predict_size_train = int(math.ceil(nb_train_samples/batch_size))\n",
    "\n",
    "bottleneck_features_train = vgg16.predict_generator(generator, predict_size_train)\n",
    "\n",
    "np.save('bottleneck_features_train.npy', bottleneck_features_train)\n",
    "end = datetime.datetime.now()\n",
    "elapsed = end-start\n",
    "print('Time: ', elapsed)\n"
   ]
  },
  {
   "cell_type": "code",
   "execution_count": 5,
   "metadata": {},
   "outputs": [
    {
     "name": "stdout",
     "output_type": "stream",
     "text": [
      "Found 23308 images belonging to 3 classes.\n",
      "Time:  1:11:24.320364\n"
     ]
    }
   ],
   "source": [
    "start = datetime.datetime.now()\n",
    "\n",
    "generator = datagen.flow_from_directory(\n",
    "    validation_data_location,\n",
    "    target_size = (img_width, img_height),\n",
    "    batch_size = batch_size,\n",
    "    class_mode = None,\n",
    "    shuffle = False)\n",
    "\n",
    "nb_validation_samples = len(generator.filenames)\n",
    "num_classes = len(generator.class_indices)\n",
    "\n",
    "predict_size_validation = int(math.ceil(nb_validation_samples/batch_size))\n",
    "\n",
    "bottleneck_features_validation = vgg16.predict_generator(generator, predict_size_validation)\n",
    "\n",
    "np.save('bottleneck_features_validation.npy', bottleneck_features_validation)\n",
    "end = datetime.datetime.now()\n",
    "elapsed = end-start\n",
    "print('Time: ', elapsed)"
   ]
  },
  {
   "cell_type": "code",
   "execution_count": 6,
   "metadata": {},
   "outputs": [
    {
     "name": "stdout",
     "output_type": "stream",
     "text": [
      "Found 23069 images belonging to 3 classes.\n",
      "Time:  1:11:02.703591\n"
     ]
    }
   ],
   "source": [
    "start = datetime.datetime.now()\n",
    "\n",
    "generator = datagen.flow_from_directory(\n",
    "    test_data_location,\n",
    "    target_size = (img_width, img_height),\n",
    "    batch_size = batch_size,\n",
    "    class_mode = None,\n",
    "    shuffle = False)\n",
    "\n",
    "nb_test_samples = len(generator.filenames)\n",
    "num_classes = len(generator.class_indices)\n",
    "\n",
    "predict_size_test = int(math.ceil(nb_test_samples/batch_size))\n",
    "\n",
    "bottleneck_features_test = vgg16.predict_generator(generator, predict_size_test)\n",
    "\n",
    "np.save('bottleneck_features_test.npy', bottleneck_features_test)\n",
    "end = datetime.datetime.now()\n",
    "elapsed = end-start\n",
    "print('Time: ', elapsed)"
   ]
  },
  {
   "cell_type": "code",
   "execution_count": 7,
   "metadata": {},
   "outputs": [
    {
     "name": "stdout",
     "output_type": "stream",
     "text": [
      "Found 106468 images belonging to 3 classes.\n"
     ]
    }
   ],
   "source": [
    "generator_top = datagen.flow_from_directory(\n",
    "   train_data_location,\n",
    "   target_size = (img_width, img_height),\n",
    "   batch_size = batch_size,\n",
    "   class_mode = 'categorical',\n",
    "   shuffle = False)\n",
    "\n",
    "nb_train_samples = len(generator_top.filenames)\n",
    "num_classes = len(generator_top.class_indices)\n",
    "\n",
    "train_data = np.load('bottleneck_features_train.npy')\n",
    "train_labels = generator_top.classes\n",
    "\n",
    "train_labels = to_categorical(train_labels,\n",
    "                             num_classes = num_classes)\n",
    "\n",
    "\n"
   ]
  },
  {
   "cell_type": "code",
   "execution_count": 8,
   "metadata": {},
   "outputs": [
    {
     "name": "stdout",
     "output_type": "stream",
     "text": [
      "Found 23308 images belonging to 3 classes.\n"
     ]
    }
   ],
   "source": [
    "generator_top = datagen.flow_from_directory(\n",
    "   validation_data_location,\n",
    "   target_size = (img_width, img_height),\n",
    "   batch_size = batch_size,\n",
    "   class_mode = 'categorical',\n",
    "   shuffle = False)\n",
    "\n",
    "nb_validation_samples = len(generator_top.filenames)\n",
    "num_classes = len(generator_top.class_indices)\n",
    "\n",
    "validation_data = np.load('bottleneck_features_validation.npy')\n",
    "validation_labels = generator_top.classes\n",
    "\n",
    "validation_labels = to_categorical(validation_labels,\n",
    "                             num_classes = num_classes)\n",
    "\n",
    "\n"
   ]
  },
  {
   "cell_type": "code",
   "execution_count": 9,
   "metadata": {},
   "outputs": [
    {
     "name": "stdout",
     "output_type": "stream",
     "text": [
      "Found 23069 images belonging to 3 classes.\n"
     ]
    }
   ],
   "source": [
    "generator_top = datagen.flow_from_directory(\n",
    "   test_data_location,\n",
    "   target_size = (img_width, img_height),\n",
    "   batch_size = batch_size,\n",
    "   class_mode = 'categorical',\n",
    "   shuffle = False)\n",
    "\n",
    "nb_test_samples = len(generator_top.filenames)\n",
    "num_classes = len(generator_top.class_indices)\n",
    "\n",
    "test_data = np.load('bottleneck_features_test.npy')\n",
    "test_labels = generator_top.classes\n",
    "\n",
    "test_labels = to_categorical(test_labels,\n",
    "                             num_classes = num_classes)\n",
    "\n",
    "\n"
   ]
  },
  {
   "cell_type": "code",
   "execution_count": 26,
   "metadata": {},
   "outputs": [
    {
     "name": "stdout",
     "output_type": "stream",
     "text": [
      "Epoch 1/75\n",
      "2130/2130 [==============================] - 78s 36ms/step - loss: 0.1209 - acc: 0.9558 - val_loss: 0.1708 - val_acc: 0.9618\n",
      "Epoch 2/75\n",
      "2130/2130 [==============================] - 76s 36ms/step - loss: 0.0278 - acc: 0.9938 - val_loss: 0.2530 - val_acc: 0.9586\n",
      "Epoch 3/75\n",
      "2130/2130 [==============================] - 74s 35ms/step - loss: 0.0228 - acc: 0.9952 - val_loss: 0.2013 - val_acc: 0.9599\n",
      "Epoch 4/75\n",
      "2130/2130 [==============================] - 76s 36ms/step - loss: 0.0211 - acc: 0.9961 - val_loss: 0.0928 - val_acc: 0.9785\n",
      "Epoch 5/75\n",
      "2130/2130 [==============================] - 73s 34ms/step - loss: 0.0180 - acc: 0.9968 - val_loss: 0.0683 - val_acc: 0.9897\n",
      "Epoch 6/75\n",
      "2130/2130 [==============================] - 73s 34ms/step - loss: 0.0170 - acc: 0.9970 - val_loss: 0.0987 - val_acc: 0.9802\n",
      "Epoch 7/75\n",
      "2130/2130 [==============================] - 73s 34ms/step - loss: 0.0172 - acc: 0.9973 - val_loss: 0.2962 - val_acc: 0.9488\n",
      "Epoch 8/75\n",
      "2130/2130 [==============================] - 77s 36ms/step - loss: 0.0173 - acc: 0.9971 - val_loss: 0.1629 - val_acc: 0.9753\n",
      "Epoch 9/75\n",
      "2130/2130 [==============================] - 74s 35ms/step - loss: 0.0160 - acc: 0.9976 - val_loss: 0.4397 - val_acc: 0.9371\n",
      "Epoch 10/75\n",
      "2130/2130 [==============================] - 75s 35ms/step - loss: 0.0147 - acc: 0.9977 - val_loss: 0.1631 - val_acc: 0.9754\n",
      "Epoch 11/75\n",
      "2130/2130 [==============================] - 82s 39ms/step - loss: 0.0139 - acc: 0.9977 - val_loss: 0.1098 - val_acc: 0.9819\n",
      "Epoch 12/75\n",
      "2130/2130 [==============================] - 73s 34ms/step - loss: 0.0140 - acc: 0.9980 - val_loss: 0.1502 - val_acc: 0.9827\n",
      "Epoch 13/75\n",
      "2130/2130 [==============================] - 75s 35ms/step - loss: 0.0167 - acc: 0.9980 - val_loss: 0.3351 - val_acc: 0.9667\n",
      "Epoch 14/75\n",
      "2130/2130 [==============================] - 89s 42ms/step - loss: 0.0148 - acc: 0.9981 - val_loss: 0.0834 - val_acc: 0.9889\n",
      "Epoch 15/75\n",
      "2130/2130 [==============================] - 74s 35ms/step - loss: 0.0152 - acc: 0.9980 - val_loss: 0.1498 - val_acc: 0.9761\n",
      "Epoch 16/75\n",
      "2130/2130 [==============================] - 77s 36ms/step - loss: 0.0113 - acc: 0.9983 - val_loss: 0.1556 - val_acc: 0.9807\n",
      "Epoch 17/75\n",
      "2130/2130 [==============================] - 76s 36ms/step - loss: 0.0160 - acc: 0.9982 - val_loss: 0.1518 - val_acc: 0.9814\n",
      "Epoch 18/75\n",
      "2130/2130 [==============================] - 74s 35ms/step - loss: 0.0117 - acc: 0.9985 - val_loss: 0.2285 - val_acc: 0.9695\n",
      "Epoch 19/75\n",
      "2130/2130 [==============================] - 75s 35ms/step - loss: 0.0132 - acc: 0.9983 - val_loss: 0.1509 - val_acc: 0.9789\n",
      "Epoch 20/75\n",
      "2130/2130 [==============================] - 73s 34ms/step - loss: 0.0149 - acc: 0.9985 - val_loss: 0.2828 - val_acc: 0.9625\n",
      "Epoch 21/75\n",
      "2130/2130 [==============================] - 78s 36ms/step - loss: 0.0151 - acc: 0.9984 - val_loss: 0.2791 - val_acc: 0.9517\n",
      "Epoch 22/75\n",
      "2130/2130 [==============================] - 76s 36ms/step - loss: 0.0114 - acc: 0.9984 - val_loss: 0.1727 - val_acc: 0.9762\n",
      "Epoch 23/75\n",
      "2130/2130 [==============================] - 74s 35ms/step - loss: 0.0118 - acc: 0.9986 - val_loss: 0.3208 - val_acc: 0.9681\n",
      "Epoch 24/75\n",
      "2130/2130 [==============================] - 73s 34ms/step - loss: 0.0127 - acc: 0.9985 - val_loss: 0.2175 - val_acc: 0.9741\n",
      "Epoch 25/75\n",
      "2130/2130 [==============================] - 78s 37ms/step - loss: 0.0104 - acc: 0.9987 - val_loss: 0.1026 - val_acc: 0.9864\n",
      "Epoch 26/75\n",
      "2130/2130 [==============================] - 81s 38ms/step - loss: 0.0104 - acc: 0.9986 - val_loss: 0.1423 - val_acc: 0.9803\n",
      "Epoch 27/75\n",
      "2130/2130 [==============================] - 75s 35ms/step - loss: 0.0122 - acc: 0.9986 - val_loss: 0.1660 - val_acc: 0.9822\n",
      "Epoch 28/75\n",
      "2130/2130 [==============================] - 76s 36ms/step - loss: 0.0124 - acc: 0.9987 - val_loss: 0.1405 - val_acc: 0.9820\n",
      "Epoch 29/75\n",
      "2130/2130 [==============================] - 79s 37ms/step - loss: 0.0126 - acc: 0.9987 - val_loss: 0.1150 - val_acc: 0.9837\n",
      "Epoch 30/75\n",
      "2130/2130 [==============================] - 74s 35ms/step - loss: 0.0121 - acc: 0.9985 - val_loss: 0.1116 - val_acc: 0.9850\n",
      "Epoch 31/75\n",
      "2130/2130 [==============================] - 83s 39ms/step - loss: 0.0129 - acc: 0.9987 - val_loss: 0.1242 - val_acc: 0.9817\n",
      "Epoch 32/75\n",
      "2130/2130 [==============================] - 76s 36ms/step - loss: 0.0101 - acc: 0.9988 - val_loss: 0.0955 - val_acc: 0.9887\n",
      "Epoch 33/75\n",
      "2130/2130 [==============================] - 81s 38ms/step - loss: 0.0091 - acc: 0.9988 - val_loss: 0.0951 - val_acc: 0.9888\n",
      "Epoch 34/75\n",
      "2130/2130 [==============================] - 78s 37ms/step - loss: 0.0115 - acc: 0.9986 - val_loss: 0.1653 - val_acc: 0.9801\n",
      "Epoch 35/75\n",
      "2130/2130 [==============================] - 79s 37ms/step - loss: 0.0114 - acc: 0.9989 - val_loss: 0.0858 - val_acc: 0.9880\n",
      "Epoch 36/75\n",
      "2130/2130 [==============================] - 77s 36ms/step - loss: 0.0105 - acc: 0.9987 - val_loss: 0.1034 - val_acc: 0.9831\n",
      "Epoch 37/75\n",
      "2130/2130 [==============================] - 73s 34ms/step - loss: 0.0108 - acc: 0.9988 - val_loss: 0.1603 - val_acc: 0.9775\n",
      "Epoch 38/75\n",
      "2130/2130 [==============================] - 72s 34ms/step - loss: 0.0114 - acc: 0.9989 - val_loss: 0.1447 - val_acc: 0.9805\n",
      "Epoch 39/75\n",
      "2130/2130 [==============================] - 75s 35ms/step - loss: 0.0089 - acc: 0.9989 - val_loss: 0.1867 - val_acc: 0.9780\n",
      "Epoch 40/75\n",
      "2130/2130 [==============================] - 72s 34ms/step - loss: 0.0102 - acc: 0.9991 - val_loss: 0.0826 - val_acc: 0.9930\n",
      "Epoch 41/75\n",
      "2130/2130 [==============================] - 74s 35ms/step - loss: 0.0136 - acc: 0.9987 - val_loss: 0.1079 - val_acc: 0.9865\n",
      "Epoch 42/75\n",
      "2130/2130 [==============================] - 77s 36ms/step - loss: 0.0144 - acc: 0.9987 - val_loss: 0.1206 - val_acc: 0.9860\n",
      "Epoch 43/75\n",
      "2130/2130 [==============================] - 76s 36ms/step - loss: 0.0113 - acc: 0.9987 - val_loss: 0.0976 - val_acc: 0.9891\n",
      "Epoch 44/75\n",
      "2130/2130 [==============================] - 81s 38ms/step - loss: 0.0110 - acc: 0.9989 - val_loss: 0.0726 - val_acc: 0.9957\n",
      "Epoch 45/75\n",
      "2130/2130 [==============================] - 90s 42ms/step - loss: 0.0123 - acc: 0.9986 - val_loss: 0.2478 - val_acc: 0.9737\n",
      "Epoch 46/75\n",
      "2130/2130 [==============================] - 80s 38ms/step - loss: 0.0115 - acc: 0.9988 - val_loss: 0.0866 - val_acc: 0.9919\n",
      "Epoch 47/75\n",
      "2130/2130 [==============================] - 71s 33ms/step - loss: 0.0088 - acc: 0.9989 - val_loss: 0.0970 - val_acc: 0.9880\n",
      "Epoch 48/75\n",
      "2130/2130 [==============================] - 67s 31ms/step - loss: 0.0087 - acc: 0.9991 - val_loss: 0.1261 - val_acc: 0.9813\n",
      "Epoch 49/75\n",
      "2130/2130 [==============================] - 63s 29ms/step - loss: 0.0130 - acc: 0.9989 - val_loss: 0.1910 - val_acc: 0.9802\n",
      "Epoch 50/75\n",
      "2130/2130 [==============================] - 63s 30ms/step - loss: 0.0131 - acc: 0.9989 - val_loss: 0.1572 - val_acc: 0.9817\n",
      "Epoch 51/75\n",
      "2130/2130 [==============================] - 73s 34ms/step - loss: 0.0093 - acc: 0.9989 - val_loss: 0.1343 - val_acc: 0.9880\n",
      "Epoch 52/75\n",
      "2130/2130 [==============================] - 71s 33ms/step - loss: 0.0111 - acc: 0.9990 - val_loss: 0.2412 - val_acc: 0.9747\n",
      "Epoch 53/75\n",
      "2130/2130 [==============================] - 62s 29ms/step - loss: 0.0094 - acc: 0.9990 - val_loss: 0.0844 - val_acc: 0.9934\n",
      "Epoch 54/75\n",
      "2130/2130 [==============================] - 69s 32ms/step - loss: 0.0082 - acc: 0.9990 - val_loss: 0.3359 - val_acc: 0.9676\n",
      "Epoch 55/75\n",
      "2130/2130 [==============================] - 63s 29ms/step - loss: 0.0111 - acc: 0.9991 - val_loss: 0.2004 - val_acc: 0.9814\n",
      "Epoch 56/75\n",
      "2130/2130 [==============================] - 65s 31ms/step - loss: 0.0136 - acc: 0.9988 - val_loss: 0.0659 - val_acc: 0.9943\n",
      "Epoch 57/75\n",
      "2130/2130 [==============================] - 65s 30ms/step - loss: 0.0087 - acc: 0.9989 - val_loss: 0.1680 - val_acc: 0.9813\n",
      "Epoch 58/75\n",
      "2130/2130 [==============================] - 61s 29ms/step - loss: 0.0103 - acc: 0.9989 - val_loss: 0.1067 - val_acc: 0.9903\n",
      "Epoch 59/75\n",
      "2130/2130 [==============================] - 59s 28ms/step - loss: 0.0109 - acc: 0.9989 - val_loss: 0.0824 - val_acc: 0.9937\n",
      "Epoch 60/75\n",
      "2130/2130 [==============================] - 60s 28ms/step - loss: 0.0104 - acc: 0.9989 - val_loss: 0.2709 - val_acc: 0.9702\n"
     ]
    },
    {
     "name": "stdout",
     "output_type": "stream",
     "text": [
      "Epoch 61/75\n",
      "2130/2130 [==============================] - 58s 27ms/step - loss: 0.0094 - acc: 0.9989 - val_loss: 0.1609 - val_acc: 0.9836\n",
      "Epoch 62/75\n",
      "2130/2130 [==============================] - 61s 29ms/step - loss: 0.0087 - acc: 0.9991 - val_loss: 0.1260 - val_acc: 0.9877\n",
      "Epoch 63/75\n",
      "2130/2130 [==============================] - 68s 32ms/step - loss: 0.0095 - acc: 0.9991 - val_loss: 0.1060 - val_acc: 0.9910\n",
      "Epoch 64/75\n",
      "2130/2130 [==============================] - 60s 28ms/step - loss: 0.0079 - acc: 0.9990 - val_loss: 0.1053 - val_acc: 0.9915\n",
      "Epoch 65/75\n",
      "2130/2130 [==============================] - 59s 27ms/step - loss: 0.0105 - acc: 0.9991 - val_loss: 0.1409 - val_acc: 0.9866\n",
      "Epoch 66/75\n",
      "2130/2130 [==============================] - 62s 29ms/step - loss: 0.0127 - acc: 0.9989 - val_loss: 0.2190 - val_acc: 0.9772\n",
      "Epoch 67/75\n",
      "2130/2130 [==============================] - 57s 27ms/step - loss: 0.0077 - acc: 0.9991 - val_loss: 0.1481 - val_acc: 0.9834\n",
      "Epoch 68/75\n",
      "2130/2130 [==============================] - 57s 27ms/step - loss: 0.0092 - acc: 0.9990 - val_loss: 0.2599 - val_acc: 0.9739\n",
      "Epoch 69/75\n",
      "2130/2130 [==============================] - 60s 28ms/step - loss: 0.0097 - acc: 0.9990 - val_loss: 0.1247 - val_acc: 0.9860\n",
      "Epoch 70/75\n",
      "2130/2130 [==============================] - 58s 27ms/step - loss: 0.0076 - acc: 0.9990 - val_loss: 0.1285 - val_acc: 0.9875\n",
      "Epoch 71/75\n",
      "2130/2130 [==============================] - 58s 27ms/step - loss: 0.0093 - acc: 0.9991 - val_loss: 0.1247 - val_acc: 0.9881\n",
      "Epoch 72/75\n",
      "2130/2130 [==============================] - 60s 28ms/step - loss: 0.0086 - acc: 0.9991 - val_loss: 0.1174 - val_acc: 0.9872\n",
      "Epoch 73/75\n",
      "2130/2130 [==============================] - 61s 29ms/step - loss: 0.0087 - acc: 0.9990 - val_loss: 0.1685 - val_acc: 0.9819\n",
      "Epoch 74/75\n",
      "2130/2130 [==============================] - 64s 30ms/step - loss: 0.0087 - acc: 0.9990 - val_loss: 0.1410 - val_acc: 0.9853\n",
      "Epoch 75/75\n",
      "2130/2130 [==============================] - 63s 30ms/step - loss: 0.0097 - acc: 0.9990 - val_loss: 0.1625 - val_acc: 0.9857\n",
      "467/467 [==============================] - 3s 5ms/step - loss: 0.1625 - acc: 0.9857\n",
      "[INFO] accuracy: 98.57%\n",
      "Time:  1:29:22.584438\n"
     ]
    }
   ],
   "source": [
    "start = datetime.datetime.now()\n",
    "model = Sequential()\n",
    "model.add(Flatten(input_shape = train_data.shape[1:]))\n",
    "model.add(Dense(100, activation = tensorflow.keras.layers.LeakyReLU(alpha = 0.1)))\n",
    "model.add(Dropout(0.5))\n",
    "model.add(Dense(100, activation = tensorflow.keras.layers.LeakyReLU(alpha = 0.1)))\n",
    "model.add(Dropout(0.5))\n",
    "model.add(Dense(100, activation = tensorflow.keras.layers.LeakyReLU(alpha = 0.1)))\n",
    "model.add(Dropout(0.5))\n",
    "model.add(Dense(num_classes, activation = 'softmax'))\n",
    "model.compile(loss='categorical_crossentropy', \n",
    "             optimizer = tensorflow.keras.optimizers.RMSprop(lr = 1e-4),\n",
    "             metrics = ['acc'])\n",
    "history = model.fit(train_data, train_labels,\n",
    "                   epochs = 75,\n",
    "                   batch_size = batch_size,\n",
    "                   validation_data = (validation_data, validation_labels))\n",
    "\n",
    "model.save_weights(top_model_weights_path)\n",
    "(eval_loss, eval_accuracy) = model.evaluate(\n",
    "    validation_data, validation_labels,\n",
    "    batch_size = batch_size, verbose = 1)\n",
    "\n",
    "print(\"[INFO] accuracy: {:.2f}%\".format(eval_accuracy * 100))\n",
    "end = datetime.datetime.now()\n",
    "elapsed = end - start\n",
    "print('Time: ', elapsed)"
   ]
  },
  {
   "cell_type": "code",
   "execution_count": 27,
   "metadata": {},
   "outputs": [
    {
     "data": {
      "image/png": "[encoded data removed]",
      "text/plain": [
       "<Figure size 432x288 with 1 Axes>"
      ]
     },
     "metadata": {
      "needs_background": "light"
     },
     "output_type": "display_data"
    },
    {
     "data": {
      "image/png": "[encoded data removed]",
      "text/plain": [
       "<Figure size 432x288 with 1 Axes>"
      ]
     },
     "metadata": {
      "needs_background": "light"
     },
     "output_type": "display_data"
    }
   ],
   "source": [
    "acc = history.history['acc']\n",
    "val_acc = history.history['val_acc']\n",
    "loss = history.history['loss']\n",
    "val_loss = history.history['val_loss']\n",
    "epochs = range(len(acc))\n",
    "plt.plot(epochs, acc, 'r', label = 'Training acc')\n",
    "plt.plot(epochs, val_acc, 'b', label='Validation acc')\n",
    "plt.title('Training and validation accuracy')\n",
    "plt.ylabel('accuracy')\n",
    "plt.xlabel('epoch')\n",
    "plt.legend()\n",
    "plt.figure()\n",
    "plt.plot(epochs, loss, 'r', label = 'Training loss')\n",
    "plt.plot(epochs, val_loss, 'b', label='Validation loss')\n",
    "plt.title('Training and validation loss')\n",
    "plt.ylabel('loss')\n",
    "plt.xlabel('epoch')\n",
    "plt.legend()\n",
    "plt.show()"
   ]
  },
  {
   "cell_type": "code",
   "execution_count": 28,
   "metadata": {},
   "outputs": [
    {
     "name": "stdout",
     "output_type": "stream",
     "text": [
      "721/721 [==============================] - 6s 8ms/step - loss: 0.5587 - acc: 0.9603\n"
     ]
    },
    {
     "data": {
      "text/plain": [
       "[0.5586922764778137, 0.9603363871574402]"
      ]
     },
     "execution_count": 28,
     "metadata": {},
     "output_type": "execute_result"
    }
   ],
   "source": [
    "model.evaluate(test_data, test_labels)"
   ]
  },
  {
   "cell_type": "code",
   "execution_count": 25,
   "metadata": {},
   "outputs": [
    {
     "name": "stdout",
     "output_type": "stream",
     "text": [
      "              precision    recall  f1-score   support\n",
      "\n",
      " Rocket_Body       0.97      0.94      0.96      7157\n",
      "   Satellite       0.94      0.97      0.96      7101\n",
      "Space_debris       1.00      1.00      1.00      8811\n",
      "\n",
      "   micro avg       0.97      0.97      0.97     23069\n",
      "   macro avg       0.97      0.97      0.97     23069\n",
      "weighted avg       0.97      0.97      0.97     23069\n",
      " samples avg       0.97      0.97      0.97     23069\n",
      "\n"
     ]
    },
    {
     "name": "stderr",
     "output_type": "stream",
     "text": [
      "C:\\Users\\moham\\Anaconda3\\lib\\site-packages\\sklearn\\metrics\\_classification.py:1272: UndefinedMetricWarning: Precision and F-score are ill-defined and being set to 0.0 in samples with no predicted labels. Use `zero_division` parameter to control this behavior.\n",
      "  _warn_prf(average, modifier, msg_start, len(result))\n"
     ]
    }
   ],
   "source": [
    "preds = np.round(model.predict(test_data),0)\n",
    "Space_objects = ['Rocket_Body', 'Satellite','Space_debris']\n",
    "classification_metrics = metrics.classification_report(test_labels, preds,target_names=Space_objects)\n",
    "print(classification_metrics)"
   ]
  },
  {
   "cell_type": "code",
   "execution_count": null,
   "metadata": {},
   "outputs": [],
   "source": []
  }
 ],
 "metadata": {
  "kernelspec": {
   "display_name": "Python 3",
   "language": "python",
   "name": "python3"
  },
  "language_info": {
   "codemirror_mode": {
    "name": "ipython",
    "version": 3
   },
   "file_extension": ".py",
   "mimetype": "text/x-python",
   "name": "python",
   "nbconvert_exporter": "python",
   "pygments_lexer": "ipython3",
   "version": "3.7.6"
  }
 },
 "nbformat": 4,
 "nbformat_minor": 4
}
